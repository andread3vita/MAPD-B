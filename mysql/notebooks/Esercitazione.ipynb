{
 "cells": [
  {
   "cell_type": "code",
   "execution_count": 19,
   "id": "1f05b591",
   "metadata": {},
   "outputs": [
    {
     "name": "stdout",
     "output_type": "stream",
     "text": [
      "<mysql.connector.connection_cext.CMySQLConnection object at 0x7fdaf5c3b3d0>\n"
     ]
    }
   ],
   "source": [
    "# import the connector\n",
    "import mysql.connector\n",
    "\n",
    "# declare a connection to the MySQL server \n",
    "# the hostname (or IP) of the server machine should be passed\n",
    "db = mysql.connector.connect(\n",
    "  user=\"root\",\n",
    "  password=\"root_pwd\",\n",
    "  host=\"db\", # in this case 'db' is the equivalent of the IP address of the server \n",
    "             # or 'localhost' if running mysql locally\n",
    ")\n",
    "\n",
    "print(db)"
   ]
  },
  {
   "cell_type": "code",
   "execution_count": 20,
   "id": "b1addb62",
   "metadata": {},
   "outputs": [],
   "source": [
    "#create our db cursor object\n",
    "dbc = db.cursor()\n",
    "\n",
    "#recall connector_object.reset()"
   ]
  },
  {
   "cell_type": "code",
   "execution_count": 21,
   "id": "ce081e16",
   "metadata": {},
   "outputs": [
    {
     "data": {
      "text/plain": [
       "[('information_schema',), ('mysql',), ('performance_schema',), ('sys',)]"
      ]
     },
     "execution_count": 21,
     "metadata": {},
     "output_type": "execute_result"
    }
   ],
   "source": [
    "# show all available databases and print them\n",
    "dbc.execute(\"SHOW DATABASES\")\n",
    "dbc.fetchall()"
   ]
  },
  {
   "cell_type": "markdown",
   "id": "6bf264f0",
   "metadata": {},
   "source": [
    "I think it's better to use iPython magic"
   ]
  },
  {
   "cell_type": "code",
   "execution_count": 22,
   "id": "8fc8f8e7",
   "metadata": {},
   "outputs": [
    {
     "name": "stdout",
     "output_type": "stream",
     "text": [
      "env: DATABASE_URL=mysql+mysqlconnector://root:root_pwd@db\n"
     ]
    }
   ],
   "source": [
    "%load_ext sql\n",
    "\n",
    "%env DATABASE_URL=mysql+mysqlconnector://root:root_pwd@db"
   ]
  },
  {
   "cell_type": "code",
   "execution_count": 23,
   "id": "b6fb629e",
   "metadata": {},
   "outputs": [
    {
     "name": "stdout",
     "output_type": "stream",
     "text": [
      "4 rows affected.\n"
     ]
    },
    {
     "data": {
      "text/html": [
       "<table>\n",
       "    <tr>\n",
       "        <th>Database</th>\n",
       "    </tr>\n",
       "    <tr>\n",
       "        <td>information_schema</td>\n",
       "    </tr>\n",
       "    <tr>\n",
       "        <td>mysql</td>\n",
       "    </tr>\n",
       "    <tr>\n",
       "        <td>performance_schema</td>\n",
       "    </tr>\n",
       "    <tr>\n",
       "        <td>sys</td>\n",
       "    </tr>\n",
       "</table>"
      ],
      "text/plain": [
       "[('information_schema',), ('mysql',), ('performance_schema',), ('sys',)]"
      ]
     },
     "execution_count": 23,
     "metadata": {},
     "output_type": "execute_result"
    }
   ],
   "source": [
    "%%sql\n",
    "\n",
    "SHOW DATABASES;"
   ]
  },
  {
   "cell_type": "markdown",
   "id": "628e61c5",
   "metadata": {},
   "source": [
    "## Basic concepts"
   ]
  },
  {
   "cell_type": "markdown",
   "id": "d40e2c29",
   "metadata": {},
   "source": [
    "Show databases:\n",
    "```mysql\n",
    "%%sql\n",
    "SHOW DATABASES;\n",
    "```\n",
    "\n",
    "Create database if not exists:\n",
    "```mysql\n",
    "%%sql\n",
    "CREATE DATABASE IF NOT EXISTS <databaseName>;\n",
    "```\n",
    "Use a database:\n",
    "```mysql\n",
    "%%sql\n",
    "USE my_db;\n",
    "```\n",
    "\n",
    "Once you are in a database, you can work with that. For example it is possible to show the tables in it:\n",
    "```mysql\n",
    "%%sql \n",
    "SHOW TABLES;\n",
    "```\n",
    "\n",
    "Create a new table with a defined structure\n",
    "```mysql\n",
    "%%sql\n",
    "CREATE TABLE <tablename> (<parameter1> <type(limits)>, ...);\n",
    "```\n",
    "\n",
    "Show the structure of a table\n",
    "```mysql\n",
    "%%sql\n",
    "DESCRIBE <tablename>;\n",
    "```"
   ]
  },
  {
   "cell_type": "code",
   "execution_count": null,
   "id": "d3eb0829",
   "metadata": {},
   "outputs": [],
   "source": []
  }
 ],
 "metadata": {
  "kernelspec": {
   "display_name": "Python 3 (ipykernel)",
   "language": "python",
   "name": "python3"
  },
  "language_info": {
   "codemirror_mode": {
    "name": "ipython",
    "version": 3
   },
   "file_extension": ".py",
   "mimetype": "text/x-python",
   "name": "python",
   "nbconvert_exporter": "python",
   "pygments_lexer": "ipython3",
   "version": "3.9.12"
  }
 },
 "nbformat": 4,
 "nbformat_minor": 5
}
