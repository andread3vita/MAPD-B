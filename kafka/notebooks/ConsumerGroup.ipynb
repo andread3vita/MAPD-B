{
 "cells": [
  {
   "cell_type": "markdown",
   "id": "7d12107b",
   "metadata": {},
   "source": [
    "# Kafka Consumer group"
   ]
  },
  {
   "cell_type": "code",
   "execution_count": 1,
   "id": "5b3e602c",
   "metadata": {},
   "outputs": [],
   "source": [
    "# define the list of brokers in the cluster\n",
    "KAFKA_BOOTSTRAP_SERVERS = ['kafka-broker:9092']"
   ]
  },
  {
   "cell_type": "code",
   "execution_count": 2,
   "id": "874e6a4c",
   "metadata": {},
   "outputs": [],
   "source": [
    "from kafka import KafkaConsumer\n",
    "\n",
    "# create `consumer_two` to read from a specific partition\n",
    "# assign this consumer to a group\n",
    "consumer_two = KafkaConsumer(bootstrap_servers=KAFKA_BOOTSTRAP_SERVERS,\n",
    "                             client_id='consumer_two',\n",
    "                             group_id='my_group',                       # the same group will be used by all consumers\n",
    "                             auto_offset_reset='earliest',\n",
    "                             consumer_timeout_ms=10000)"
   ]
  },
  {
   "cell_type": "code",
   "execution_count": 3,
   "id": "91d2a9f4",
   "metadata": {},
   "outputs": [],
   "source": [
    "from kafka import ConsumerRebalanceListener\n",
    "import json\n",
    "\n",
    "# subscribe `consumer_two` to the partitioned topic\n",
    "consumer_two.subscribe('a_partitioned_topic',\n",
    "                       listener=ConsumerRebalanceListener())"
   ]
  },
  {
   "cell_type": "code",
   "execution_count": 4,
   "id": "f146d9e9",
   "metadata": {
    "scrolled": true
   },
   "outputs": [
    {
     "data": {
      "text/plain": [
       "set()"
      ]
     },
     "execution_count": 4,
     "metadata": {},
     "output_type": "execute_result"
    }
   ],
   "source": [
    "# check the partitions assigned to `consumer_two`\n",
    "consumer_two.assignment()"
   ]
  },
  {
   "cell_type": "code",
   "execution_count": 6,
   "id": "f54b91a7",
   "metadata": {},
   "outputs": [
    {
     "name": "stdout",
     "output_type": "stream",
     "text": [
      "1:10: k=None v={'name': 'Alice', 'surname': 'Jones', 'amount': '177.63', 'delta_t': '8.21', 'flag': 0}\n",
      "1:11: k=None v={'name': 'Joe', 'surname': 'Jones', 'amount': '43.82', 'delta_t': '8.51', 'flag': 0}\n",
      "1:12: k=None v={'name': 'John', 'surname': 'Millers', 'amount': '225.28', 'delta_t': '6.21', 'flag': 0}\n",
      "1:13: k=None v={'name': 'Joe', 'surname': 'Millers', 'amount': '235.04', 'delta_t': '1.07', 'flag': 0}\n",
      "1:14: k=None v={'name': 'Joe', 'surname': 'Johnson', 'amount': '461.02', 'delta_t': '7.17', 'flag': 0}\n",
      "1:15: k=None v={'name': 'Joe', 'surname': 'Johnson', 'amount': '460.70', 'delta_t': '5.86', 'flag': 0}\n",
      "1:16: k=None v={'name': 'John', 'surname': 'Smith', 'amount': '231.53', 'delta_t': '9.15', 'flag': 0}\n"
     ]
    }
   ],
   "source": [
    "# use multiple consumers in parallel (`consumer_two` in this notebook)\n",
    "for message in consumer_two:\n",
    "    print (\"%d:%d: k=%s v=%s\" % (message.partition,\n",
    "                          message.offset,\n",
    "                          message.key,\n",
    "                          json.loads(message.value)))"
   ]
  },
  {
   "cell_type": "code",
   "execution_count": null,
   "id": "fea07e40",
   "metadata": {},
   "outputs": [],
   "source": []
  }
 ],
 "metadata": {
  "kernelspec": {
   "display_name": "Python 3 (ipykernel)",
   "language": "python",
   "name": "python3"
  },
  "language_info": {
   "codemirror_mode": {
    "name": "ipython",
    "version": 3
   },
   "file_extension": ".py",
   "mimetype": "text/x-python",
   "name": "python",
   "nbconvert_exporter": "python",
   "pygments_lexer": "ipython3",
   "version": "3.9.12"
  }
 },
 "nbformat": 4,
 "nbformat_minor": 5
}
