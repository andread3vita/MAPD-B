{
 "cells": [
  {
   "cell_type": "markdown",
   "id": "f2679d27",
   "metadata": {},
   "source": [
    "# Kafka Consumer"
   ]
  },
  {
   "cell_type": "markdown",
   "id": "fd1fd007",
   "metadata": {},
   "source": [
    "Using the `kafka-python` module, Kafka consumers can be instantiated via the `KafkaConsumer` class:\n",
    "\n",
    "```python\n",
    "#--- A TYPICAL CONSUMER\n",
    "consumer = KafkaConsumer(\n",
    "    bootstrap_servers=['62.30.10.23:9092'],  #<<<--- list of brokers\n",
    "    security_protocol=\"SSL\",                 #<<<--- security protocol (if any) \n",
    "    ssl_cafile=\"./ca.pem\",                   #<<<--- certificate details (if any)\n",
    "    ssl_certfile=\"./service.cert\",           #           ...\n",
    "    ssl_keyfile=\"./service.key\",             #           ...\n",
    "    value_deserializer=msgpack.unpackb,      #<<<--- message value deserialization function (e.g. unpack the message from a specific format)\n",
    "    auto_offset_reset='earliest',            #<<<--- automatically bring the reading offset to the earliest message\n",
    "    group_id=\"group_A\",                      #<<<--- identify this consumer as part of group_A\n",
    ")\n",
    "```\n",
    "\n",
    "Once more, we'll use a simple implementation of the consumer, with no specific configurations used in this example."
   ]
  },
  {
   "cell_type": "code",
   "execution_count": 1,
   "id": "b9babe2c",
   "metadata": {},
   "outputs": [],
   "source": [
    "# define the list of brokers in the cluster\n",
    "KAFKA_BOOTSTRAP_SERVERS = ['kafka-broker:9092']"
   ]
  },
  {
   "cell_type": "code",
   "execution_count": 2,
   "id": "9350a529",
   "metadata": {},
   "outputs": [],
   "source": [
    "from kafka import KafkaConsumer\n",
    "\n",
    "# create a Kafka consumer instance\n",
    "consumer = KafkaConsumer(\n",
    "    bootstrap_servers=KAFKA_BOOTSTRAP_SERVERS,  # list of Kafka brokers\n",
    "    consumer_timeout_ms=10000                   # maximum time to wait for a new message \n",
    "                                                # before stopping the consumer\n",
    ")"
   ]
  },
  {
   "cell_type": "markdown",
   "id": "e96d27c9",
   "metadata": {},
   "source": [
    "Inspect the available topics on the brokers:"
   ]
  },
  {
   "cell_type": "code",
   "execution_count": 3,
   "id": "bbc5ce4b",
   "metadata": {},
   "outputs": [
    {
     "data": {
      "text/plain": [
       "{'my_awesome_topic'}"
      ]
     },
     "execution_count": 3,
     "metadata": {},
     "output_type": "execute_result"
    }
   ],
   "source": [
    "# list all available topics on the kafka brokers\n",
    "consumer.topics()"
   ]
  },
  {
   "cell_type": "markdown",
   "id": "0df9fe31",
   "metadata": {},
   "source": [
    "In the Publish/Subscribe (Pub/Sub) model, before consuming messages from a specific topic, you need to subscribe to that topic. By subscribing, the consumer expresses its interest in receiving messages from the specified topic.\n",
    "\n",
    "It's important to note that subscribing to a topic doesn't immediately consume any messages. \n",
    "\n",
    "Instead, it establishes a connection between the consumer and the partitions of the subscribed topic hosted on the Kafka brokers. This connection allows the consumer to start polling for messages from those partitions.\n",
    "\n",
    "Once you have subscribed to the topic, the consumer can start polling for messages, fetching messages from the subscribed partitions and return them to the consumer for further processing."
   ]
  },
  {
   "cell_type": "code",
   "execution_count": 4,
   "id": "ce86cdbe",
   "metadata": {},
   "outputs": [
    {
     "data": {
      "text/plain": [
       "{'my_awesome_topic'}"
      ]
     },
     "execution_count": 4,
     "metadata": {},
     "output_type": "execute_result"
    }
   ],
   "source": [
    "# subscribe to a topic\n",
    "consumer.subscribe('my_awesome_topic')\n",
    "\n",
    "# check the active subscriptions\n",
    "consumer.subscription()"
   ]
  },
  {
   "cell_type": "markdown",
   "id": "c9745516",
   "metadata": {},
   "source": [
    "The `KafkaConsumer` class will also offer the possibility to inspect the topics (for instance in terms of the number of partitions), but **not** to modify them. \n",
    "\n",
    "We can inspect how many partitions the specific topic is made of:"
   ]
  },
  {
   "cell_type": "code",
   "execution_count": 5,
   "id": "3a11c955",
   "metadata": {},
   "outputs": [
    {
     "data": {
      "text/plain": [
       "{0}"
      ]
     },
     "execution_count": 5,
     "metadata": {},
     "output_type": "execute_result"
    }
   ],
   "source": [
    "# print the list of partition IDs \n",
    "# e.g. a topic with tree partitions will have partition IDs {0, 1, 2}\n",
    "consumer.partitions_for_topic('my_awesome_topic')"
   ]
  },
  {
   "cell_type": "markdown",
   "id": "5ac50e4a",
   "metadata": {},
   "source": [
    "We can instruct the consumer to `poll` (i.e., ask for all new messages stored in the topic) with a given cadence/logic.\n",
    "\n",
    "For instance, we can set the consumer to read only 10 messages at a time, with a timeout between subsequent readouts of a given $\\Delta t$."
   ]
  },
  {
   "cell_type": "code",
   "execution_count": 6,
   "id": "211359b7",
   "metadata": {},
   "outputs": [
    {
     "data": {
      "text/plain": [
       "{}"
      ]
     },
     "execution_count": 6,
     "metadata": {},
     "output_type": "execute_result"
    }
   ],
   "source": [
    "# set up the polling strategy for the consumer\n",
    "consumer.poll(timeout_ms=0,         # do not enable dead-times before one poll to the next\n",
    "              max_records=None,     # do not limit the number of records to consume at once \n",
    "              update_offsets=True   # update the reading offsets on this topic\n",
    "             )"
   ]
  },
  {
   "cell_type": "markdown",
   "id": "73b87dec",
   "metadata": {},
   "source": [
    "Now the consumer is ready to poll messages (until it is stopped or it reaches a timeout).\n",
    "\n",
    "Let's look for all messages in the consumer:"
   ]
  },
  {
   "cell_type": "code",
   "execution_count": 8,
   "id": "df5d5b94",
   "metadata": {},
   "outputs": [
    {
     "name": "stdout",
     "output_type": "stream",
     "text": [
      "ConsumerRecord(topic='my_awesome_topic', partition=0, offset=11, timestamp=1685000547307, timestamp_type=0, key=None, value=b'a message from the revived producer', headers=[], checksum=None, serialized_key_size=-1, serialized_value_size=35, serialized_header_size=-1)\n"
     ]
    }
   ],
   "source": [
    "# this consumer will keep polling for messages \n",
    "# until stopped by the user\n",
    "# (or reaches the consumer_timeout_ms, if specified)\n",
    "for message in consumer:\n",
    "    print (message)"
   ]
  },
  {
   "cell_type": "markdown",
   "id": "1a9a7a25",
   "metadata": {},
   "source": [
    "The reading offset can also be reset to the beginning of the topic, allowing for re-reading the entire topic:"
   ]
  },
  {
   "cell_type": "code",
   "execution_count": 9,
   "id": "0443dae1",
   "metadata": {
    "scrolled": true
   },
   "outputs": [
    {
     "name": "stdout",
     "output_type": "stream",
     "text": [
      "ConsumerRecord(topic='my_awesome_topic', partition=0, offset=0, timestamp=1684998788318, timestamp_type=0, key=None, value=b'hello..', headers=[], checksum=None, serialized_key_size=-1, serialized_value_size=7, serialized_header_size=-1)\n",
      "ConsumerRecord(topic='my_awesome_topic', partition=0, offset=1, timestamp=1684998792027, timestamp_type=0, key=None, value=b'anybody there?', headers=[], checksum=None, serialized_key_size=-1, serialized_value_size=14, serialized_header_size=-1)\n",
      "ConsumerRecord(topic='my_awesome_topic', partition=0, offset=2, timestamp=1684998800626, timestamp_type=0, key=None, value=b'maybe another one', headers=[], checksum=None, serialized_key_size=-1, serialized_value_size=17, serialized_header_size=-1)\n",
      "ConsumerRecord(topic='my_awesome_topic', partition=0, offset=3, timestamp=1684998869326, timestamp_type=0, key=None, value=b'q', headers=[], checksum=None, serialized_key_size=-1, serialized_value_size=1, serialized_header_size=-1)\n",
      "ConsumerRecord(topic='my_awesome_topic', partition=0, offset=4, timestamp=1684998872301, timestamp_type=0, key=None, value=b'exit', headers=[], checksum=None, serialized_key_size=-1, serialized_value_size=4, serialized_header_size=-1)\n",
      "ConsumerRecord(topic='my_awesome_topic', partition=0, offset=5, timestamp=1684998873803, timestamp_type=0, key=None, value=b'quit', headers=[], checksum=None, serialized_key_size=-1, serialized_value_size=4, serialized_header_size=-1)\n",
      "ConsumerRecord(topic='my_awesome_topic', partition=0, offset=6, timestamp=1684998971211, timestamp_type=0, key=None, value=b'ciao', headers=[], checksum=None, serialized_key_size=-1, serialized_value_size=4, serialized_header_size=-1)\n",
      "ConsumerRecord(topic='my_awesome_topic', partition=0, offset=7, timestamp=1684999390413, timestamp_type=0, key=None, value=b'message 1', headers=[], checksum=None, serialized_key_size=-1, serialized_value_size=9, serialized_header_size=-1)\n",
      "ConsumerRecord(topic='my_awesome_topic', partition=0, offset=8, timestamp=1684999708667, timestamp_type=0, key=None, value=b'a new message', headers=[], checksum=None, serialized_key_size=-1, serialized_value_size=13, serialized_header_size=-1)\n",
      "ConsumerRecord(topic='my_awesome_topic', partition=0, offset=9, timestamp=1684999795211, timestamp_type=0, key=None, value=b'a message from the revived producer', headers=[], checksum=None, serialized_key_size=-1, serialized_value_size=35, serialized_header_size=-1)\n",
      "ConsumerRecord(topic='my_awesome_topic', partition=0, offset=10, timestamp=1684999832642, timestamp_type=0, key=None, value=b'a message from the revived producer', headers=[], checksum=None, serialized_key_size=-1, serialized_value_size=35, serialized_header_size=-1)\n",
      "ConsumerRecord(topic='my_awesome_topic', partition=0, offset=11, timestamp=1685000547307, timestamp_type=0, key=None, value=b'a message from the revived producer', headers=[], checksum=None, serialized_key_size=-1, serialized_value_size=35, serialized_header_size=-1)\n"
     ]
    }
   ],
   "source": [
    "# go back to the beginning of the topic\n",
    "consumer.seek_to_beginning()\n",
    "\n",
    "# read the entire topic and print it out\n",
    "for message in consumer:\n",
    "    print (message)"
   ]
  },
  {
   "cell_type": "markdown",
   "id": "fc220cc1",
   "metadata": {},
   "source": [
    "The message content (`ConsumerRecord`) can be quite messy, but it can be easily inspected by parsing only the relevant information."
   ]
  },
  {
   "cell_type": "code",
   "execution_count": 11,
   "id": "d839b596",
   "metadata": {
    "scrolled": true
   },
   "outputs": [
    {
     "name": "stdout",
     "output_type": "stream",
     "text": [
      "{0}:0 [07:13:08.318000] k=None v=b'hello..'\n",
      "{0}:1 [07:13:12.027000] k=None v=b'anybody there?'\n",
      "{0}:2 [07:13:20.626000] k=None v=b'maybe another one'\n",
      "{0}:3 [07:14:29.326000] k=None v=b'q'\n",
      "{0}:4 [07:14:32.301000] k=None v=b'exit'\n",
      "{0}:5 [07:14:33.803000] k=None v=b'quit'\n",
      "{0}:6 [07:16:11.211000] k=None v=b'ciao'\n",
      "{0}:7 [07:23:10.413000] k=None v=b'message 1'\n",
      "{0}:8 [07:28:28.667000] k=None v=b'a new message'\n",
      "{0}:9 [07:29:55.211000] k=None v=b'a message from the revived producer'\n",
      "{0}:10 [07:30:32.642000] k=None v=b'a message from the revived producer'\n",
      "{0}:11 [07:42:27.307000] k=None v=b'a message from the revived producer'\n",
      "{0}:12 [07:48:05.369000] k=b'some_key' v=b'a message with key'\n"
     ]
    }
   ],
   "source": [
    "# import packages to interpret dates\n",
    "from datetime import datetime\n",
    "\n",
    "# go back to the beginning of the topic\n",
    "consumer.seek_to_beginning()\n",
    "\n",
    "# break down the message into its main components\n",
    "for message in consumer:\n",
    "    print (\"{%d}:%d [%s] k=%s v=%s\" % (message.partition,\n",
    "                          message.offset,\n",
    "                          datetime.fromtimestamp(message.timestamp/1000).time(),\n",
    "                          message.key,\n",
    "                          message.value))"
   ]
  },
  {
   "cell_type": "markdown",
   "id": "e4e9186d",
   "metadata": {},
   "source": [
    "Let's change the topic to which the consumer is subscribed and make it a partitioned one:"
   ]
  },
  {
   "cell_type": "code",
   "execution_count": 12,
   "id": "46e2a920",
   "metadata": {},
   "outputs": [
    {
     "data": {
      "text/plain": [
       "{'a_partitioned_topic'}"
      ]
     },
     "execution_count": 12,
     "metadata": {},
     "output_type": "execute_result"
    }
   ],
   "source": [
    "# subscribe to a partitioned topic\n",
    "consumer.subscribe('a_partitioned_topic')\n",
    "consumer.subscription()"
   ]
  },
  {
   "cell_type": "markdown",
   "id": "aa38f95e",
   "metadata": {},
   "source": [
    "By inspecting the number of partitions for this topic, we can now see that there are 2 partitions: partition #0 and partition #1."
   ]
  },
  {
   "cell_type": "code",
   "execution_count": 13,
   "id": "e9b9b428",
   "metadata": {},
   "outputs": [
    {
     "data": {
      "text/plain": [
       "{0, 1}"
      ]
     },
     "execution_count": 13,
     "metadata": {},
     "output_type": "execute_result"
    }
   ],
   "source": [
    "# check the partitions in the partitioned topic\n",
    "consumer.partitions_for_topic('a_partitioned_topic')"
   ]
  },
  {
   "cell_type": "markdown",
   "id": "d1c87793",
   "metadata": {},
   "source": [
    "When reading from a partitioned topic, it's easy to observe that the messages are sent to the two partitions in a seemingly arbitrary way."
   ]
  },
  {
   "cell_type": "code",
   "execution_count": 15,
   "id": "5510eca4",
   "metadata": {},
   "outputs": [
    {
     "name": "stdout",
     "output_type": "stream",
     "text": [
      "1:0:\t v={'name': 'Andy', 'surname': 'Johnson', 'amount': '997.55', 'delta_t': '4.83', 'flag': 0}\n",
      "1:1:\t v={'name': 'John', 'surname': 'Jones', 'amount': '799.96', 'delta_t': '8.65', 'flag': 0}\n",
      "1:2:\t v={'name': 'Andy', 'surname': 'Jones', 'amount': '759.91', 'delta_t': '4.78', 'flag': 0}\n",
      "1:3:\t v={'name': 'Alice', 'surname': 'Millers', 'amount': '47.85', 'delta_t': '8.94', 'flag': 1}\n",
      "1:4:\t v={'name': 'Alice', 'surname': 'Jones', 'amount': '925.13', 'delta_t': '4.44', 'flag': 0}\n",
      "1:5:\t v={'name': 'Joe', 'surname': 'Johnson', 'amount': '203.05', 'delta_t': '6.15', 'flag': 0}\n",
      "1:6:\t v={'name': 'John', 'surname': 'Millers', 'amount': '592.80', 'delta_t': '5.15', 'flag': 0}\n",
      "1:7:\t v={'name': 'Alice', 'surname': 'Jones', 'amount': '146.59', 'delta_t': '0.04', 'flag': 0}\n",
      "1:8:\t v={'name': 'Joe', 'surname': 'Johnson', 'amount': '481.44', 'delta_t': '4.79', 'flag': 1}\n",
      "1:9:\t v={'name': 'Joe', 'surname': 'Jones', 'amount': '532.83', 'delta_t': '7.42', 'flag': 0}\n",
      "0:0:\t v={'name': 'Alice', 'surname': 'Jones', 'amount': '931.01', 'delta_t': '4.72', 'flag': 1}\n",
      "0:1:\t v={'name': 'Andy', 'surname': 'Jones', 'amount': '306.79', 'delta_t': '2.46', 'flag': 0}\n",
      "0:2:\t v={'name': 'John', 'surname': 'Millers', 'amount': '571.64', 'delta_t': '4.32', 'flag': 0}\n",
      "0:3:\t v={'name': 'Joe', 'surname': 'Millers', 'amount': '990.07', 'delta_t': '0.14', 'flag': 0}\n",
      "0:4:\t v={'name': 'Andy', 'surname': 'Millers', 'amount': '965.25', 'delta_t': '2.72', 'flag': 0}\n",
      "0:5:\t v={'name': 'Andy', 'surname': 'Johnson', 'amount': '391.60', 'delta_t': '8.13', 'flag': 1}\n",
      "0:6:\t v={'name': 'Joe', 'surname': 'Millers', 'amount': '878.00', 'delta_t': '4.85', 'flag': 1}\n",
      "0:7:\t v={'name': 'John', 'surname': 'Johnson', 'amount': '996.09', 'delta_t': '2.24', 'flag': 0}\n",
      "0:8:\t v={'name': 'Alice', 'surname': 'Johnson', 'amount': '834.41', 'delta_t': '6.51', 'flag': 0}\n",
      "0:9:\t v={'name': 'Andy', 'surname': 'Jones', 'amount': '974.99', 'delta_t': '9.33', 'flag': 0}\n"
     ]
    }
   ],
   "source": [
    "# import json to unpack json strings\n",
    "import json\n",
    "\n",
    "# go back to the beginning of the topic\n",
    "consumer.seek_to_beginning()\n",
    "\n",
    "# read messages from the beginning of the topic\n",
    "# decode the json into the python dictionary format\n",
    "for message in consumer:\n",
    "    print (\"%d:%d:\\t v=%s\" % (message.partition,\n",
    "                          message.offset,\n",
    "                          json.loads(message.value)))"
   ]
  },
  {
   "cell_type": "markdown",
   "id": "d0cd766d",
   "metadata": {},
   "source": [
    "## Creating a consumer accessing only one partition\n",
    "\n",
    "Publishing records to a partitioned topic is typically transparent to the user: the producer publishes to the topic, and the Kafka cluster will redirect the message to the partition leader, later replicating it to the followers.\n",
    "\n",
    "The same applies to a generic consumer. As we have just seen, data is consumed from all partitions within the topic.\n",
    "\n",
    "In some cases, however, it may be more suitable to instantiate multiple consumers, with each one reading from a specific partition of a topic.\n",
    "\n",
    "Let's create a consumer specifically designed to access the data from partition #0 of the previous partitioned topic."
   ]
  },
  {
   "cell_type": "code",
   "execution_count": 16,
   "id": "d75c0987",
   "metadata": {},
   "outputs": [],
   "source": [
    "# import TopicPartition to be able to assign a partition to a consumer\n",
    "from kafka import TopicPartition\n",
    "\n",
    "# create a standard consumer with a timeout of 10 seconds\n",
    "consumer_part_0 = KafkaConsumer(bootstrap_servers=KAFKA_BOOTSTRAP_SERVERS,\n",
    "                                client_id='consumer_n_0',\n",
    "                                consumer_timeout_ms=10000)\n",
    "\n",
    "# assign the consumer to a specific topic-partition combination\n",
    "consumer_part_0.assign([TopicPartition('a_partitioned_topic', # topic\n",
    "                                       0                      # partition id\n",
    "                                       )\n",
    "                        ]) "
   ]
  },
  {
   "cell_type": "code",
   "execution_count": 17,
   "id": "fefaba6f",
   "metadata": {},
   "outputs": [
    {
     "name": "stdout",
     "output_type": "stream",
     "text": [
      "0:0:\t v={'name': 'Alice', 'surname': 'Jones', 'amount': '931.01', 'delta_t': '4.72', 'flag': 1}\n",
      "0:1:\t v={'name': 'Andy', 'surname': 'Jones', 'amount': '306.79', 'delta_t': '2.46', 'flag': 0}\n",
      "0:2:\t v={'name': 'John', 'surname': 'Millers', 'amount': '571.64', 'delta_t': '4.32', 'flag': 0}\n",
      "0:3:\t v={'name': 'Joe', 'surname': 'Millers', 'amount': '990.07', 'delta_t': '0.14', 'flag': 0}\n",
      "0:4:\t v={'name': 'Andy', 'surname': 'Millers', 'amount': '965.25', 'delta_t': '2.72', 'flag': 0}\n",
      "0:5:\t v={'name': 'Andy', 'surname': 'Johnson', 'amount': '391.60', 'delta_t': '8.13', 'flag': 1}\n",
      "0:6:\t v={'name': 'Joe', 'surname': 'Millers', 'amount': '878.00', 'delta_t': '4.85', 'flag': 1}\n",
      "0:7:\t v={'name': 'John', 'surname': 'Johnson', 'amount': '996.09', 'delta_t': '2.24', 'flag': 0}\n",
      "0:8:\t v={'name': 'Alice', 'surname': 'Johnson', 'amount': '834.41', 'delta_t': '6.51', 'flag': 0}\n",
      "0:9:\t v={'name': 'Andy', 'surname': 'Jones', 'amount': '974.99', 'delta_t': '9.33', 'flag': 0}\n"
     ]
    }
   ],
   "source": [
    "# go back to the beginning of the topic (for this specific partition)\n",
    "consumer_part_0.seek_to_beginning()\n",
    "\n",
    "# read messages from the beginning of the topic (for this specific partition)\n",
    "# decode the json into the python dictionary format\n",
    "for message in consumer_part_0:\n",
    "    print (\"%d:%d:\\t v=%s\" % (message.partition,\n",
    "                          message.offset,\n",
    "                          json.loads(message.value)))"
   ]
  },
  {
   "cell_type": "markdown",
   "id": "437e776c",
   "metadata": {},
   "source": [
    "## Creating a consumer group\n",
    "\n",
    "Multiple consumers can read from the same topic.\n",
    "\n",
    "In Kafka, every consumer is part of a consumer group (even a single consumer is part of its own consumer group, really).\n",
    "\n",
    "A consumer group consists of one or more cooperating consumers that gather data from the same topic. The consumer group dynamically balances the load across its members and redistributes the consume calls.\n",
    "\n",
    "If a consumer within a consumer group fails, the remaining consumers in the same group will continue to read the entire data from the subscribed topic."
   ]
  },
  {
   "cell_type": "code",
   "execution_count": 18,
   "id": "4ca71af1",
   "metadata": {},
   "outputs": [],
   "source": [
    "# create `consumer_one` to read from a specific partition\n",
    "# assign this consumer to a group\n",
    "consumer_one = KafkaConsumer(bootstrap_servers=KAFKA_BOOTSTRAP_SERVERS,\n",
    "                             client_id='consumer_one',\n",
    "                             group_id='my_group',                       # the same group will be used by all consumers\n",
    "                             auto_offset_reset='earliest',\n",
    "                             consumer_timeout_ms=10000)"
   ]
  },
  {
   "cell_type": "code",
   "execution_count": 19,
   "id": "bb61fa64",
   "metadata": {},
   "outputs": [],
   "source": [
    "from kafka import ConsumerRebalanceListener\n",
    "\n",
    "# subscribe `consumer_one` to the partitioned topic\n",
    "consumer_one.subscribe('a_partitioned_topic',\n",
    "                       listener=ConsumerRebalanceListener()             # set a logic on how the group should be re-balance \n",
    "                                                                        # when partitions are added or removed\n",
    "                                                                        # or when new consumers are assigned to partitions\n",
    "                       )"
   ]
  },
  {
   "cell_type": "markdown",
   "id": "9dd55dbc",
   "metadata": {},
   "source": [
    "---\n",
    "\n",
    "### Consuming messages as a group\n",
    "Use the `ConsumerGroup` notebook to:\n",
    "1. create a second consumer `consumer_two`\n",
    "2. assign it to the same consumer group `my_group`\n",
    "3. subscribe to the same topic `a_partitioned_topic`"
   ]
  },
  {
   "cell_type": "markdown",
   "id": "006f527b",
   "metadata": {},
   "source": [
    "Each consumer within a group is going to be an independent process (should be run in parallel from the others) and will provide access to a fraction of the incoming data"
   ]
  },
  {
   "cell_type": "code",
   "execution_count": 20,
   "id": "e7960448",
   "metadata": {},
   "outputs": [
    {
     "data": {
      "text/plain": [
       "set()"
      ]
     },
     "execution_count": 20,
     "metadata": {},
     "output_type": "execute_result"
    }
   ],
   "source": [
    "# check the partitions assigned to `consumer_one`\n",
    "consumer_one.assignment()"
   ]
  },
  {
   "cell_type": "markdown",
   "id": "8552330d",
   "metadata": {},
   "source": [
    "Start the two consumers and process data in parallel from the two partitions.\n",
    "\n",
    "Typically, one would achieve this by running the two consumers in separate threads, processes, or executors, depending on the desired computing architecture."
   ]
  },
  {
   "cell_type": "code",
   "execution_count": 22,
   "id": "082b6b2d",
   "metadata": {},
   "outputs": [
    {
     "name": "stdout",
     "output_type": "stream",
     "text": [
      "0:10: k=None v={'name': 'Alice', 'surname': 'Johnson', 'amount': '304.43', 'delta_t': '7.44', 'flag': 0}\n",
      "0:11: k=None v={'name': 'Andy', 'surname': 'Smith', 'amount': '481.50', 'delta_t': '8.45', 'flag': 0}\n",
      "0:12: k=None v={'name': 'Joe', 'surname': 'Smith', 'amount': '240.66', 'delta_t': '6.20', 'flag': 1}\n",
      "0:13: k=None v={'name': 'Andy', 'surname': 'Jones', 'amount': '996.98', 'delta_t': '4.99', 'flag': 0}\n",
      "0:14: k=None v={'name': 'John', 'surname': 'Millers', 'amount': '134.24', 'delta_t': '8.64', 'flag': 0}\n",
      "0:15: k=None v={'name': 'Andy', 'surname': 'Millers', 'amount': '763.71', 'delta_t': '3.43', 'flag': 0}\n",
      "0:16: k=None v={'name': 'John', 'surname': 'Smith', 'amount': '582.05', 'delta_t': '1.95', 'flag': 1}\n",
      "0:17: k=None v={'name': 'Andy', 'surname': 'Smith', 'amount': '587.28', 'delta_t': '1.30', 'flag': 1}\n",
      "0:18: k=None v={'name': 'Alice', 'surname': 'Johnson', 'amount': '628.08', 'delta_t': '4.92', 'flag': 0}\n",
      "0:19: k=None v={'name': 'Joe', 'surname': 'Smith', 'amount': '941.20', 'delta_t': '2.33', 'flag': 1}\n",
      "0:20: k=None v={'name': 'Joe', 'surname': 'Johnson', 'amount': '856.29', 'delta_t': '2.98', 'flag': 0}\n",
      "0:21: k=None v={'name': 'Andy', 'surname': 'Johnson', 'amount': '313.76', 'delta_t': '0.80', 'flag': 0}\n",
      "0:22: k=None v={'name': 'John', 'surname': 'Smith', 'amount': '491.13', 'delta_t': '0.81', 'flag': 1}\n"
     ]
    }
   ],
   "source": [
    "# use multiple consumers in parallel (`consumer_one` in this notebook)\n",
    "for message in consumer_one:\n",
    "    print (\"%d:%d: k=%s v=%s\" % (message.partition,\n",
    "                          message.offset,\n",
    "                          message.key,\n",
    "                          json.loads(message.value)))"
   ]
  },
  {
   "cell_type": "markdown",
   "id": "00c771db",
   "metadata": {},
   "source": [
    "---\n",
    "\n",
    "## Reading from the Kafka+Spark results topic\n",
    "\n",
    "Let's subscribe to the `results` topic and monitor the frauds"
   ]
  },
  {
   "cell_type": "code",
   "execution_count": 26,
   "id": "31c33193",
   "metadata": {
    "scrolled": false
   },
   "outputs": [
    {
     "name": "stdout",
     "output_type": "stream",
     "text": [
      "1:0: k=b'JoeJohnson' v=b'1'\n",
      "      --> sending alert message to user JoeJohnson\n",
      "\n",
      "1:1: k=b'JoeMillers' v=b'1'\n",
      "      --> sending alert message to user JoeMillers\n",
      "\n",
      "0:0: k=b'AliceMillers' v=b'1'\n",
      "      --> sending alert message to user AliceMillers\n",
      "\n",
      "0:1: k=b'AliceMillers' v=b'1'\n",
      "      --> sending alert message to user AliceMillers\n",
      "\n",
      "0:2: k=b'AliceJones' v=b'1'\n",
      "      --> sending alert message to user AliceJones\n",
      "\n",
      "0:3: k=b'AliceJones' v=b'1'\n",
      "      --> sending alert message to user AliceJones\n",
      "\n",
      "0:4: k=b'AliceMillers' v=b'1'\n",
      "      --> sending alert message to user AliceMillers\n",
      "\n",
      "0:5: k=b'AndyMillers' v=b'1'\n",
      "      --> sending alert message to user AndyMillers\n",
      "\n",
      "0:6: k=b'AndyJones' v=b'1'\n",
      "      --> sending alert message to user AndyJones\n",
      "\n",
      "1:2: k=b'AliceSmith' v=b'1'\n",
      "      --> sending alert message to user AliceSmith\n",
      "\n",
      "0:7: k=b'AndyJones' v=b'1'\n",
      "      --> sending alert message to user AndyJones\n",
      "\n",
      "0:8: k=b'AndyMillers' v=b'1'\n",
      "      --> sending alert message to user AndyMillers\n",
      "\n",
      "0:9: k=b'AndySmith' v=b'1'\n",
      "      --> sending alert message to user AndySmith\n",
      "\n"
     ]
    }
   ],
   "source": [
    "consumer.subscribe('results')\n",
    "\n",
    "for message in consumer:\n",
    "    print (\"%d:%d: k=%s v=%s\" % (message.partition,\n",
    "                          message.offset,\n",
    "                          message.key,\n",
    "                          message.value))\n",
    "    print ('      --> sending alert message to user {}\\n'.format(message.key.decode('ascii')))"
   ]
  },
  {
   "cell_type": "code",
   "execution_count": null,
   "id": "cc3a448c",
   "metadata": {},
   "outputs": [],
   "source": []
  }
 ],
 "metadata": {
  "kernelspec": {
   "display_name": "Python 3 (ipykernel)",
   "language": "python",
   "name": "python3"
  },
  "language_info": {
   "codemirror_mode": {
    "name": "ipython",
    "version": 3
   },
   "file_extension": ".py",
   "mimetype": "text/x-python",
   "name": "python",
   "nbconvert_exporter": "python",
   "pygments_lexer": "ipython3",
   "version": "3.9.12"
  }
 },
 "nbformat": 4,
 "nbformat_minor": 5
}
